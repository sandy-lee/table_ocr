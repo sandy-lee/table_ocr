{
 "cells": [
  {
   "cell_type": "code",
   "execution_count": 2,
   "metadata": {},
   "outputs": [],
   "source": [
    "import tensorflow as tf\n",
    "import numpy as np\n",
    "import xml.etree.ElementTree as ET"
   ]
  },
  {
   "cell_type": "code",
   "execution_count": null,
   "metadata": {},
   "outputs": [],
   "source": [
    "def get_table_bbox(table_xml_path,  new_image_shape):\n",
    "    \n",
    "    \"\"\"\n",
    "    - Extract Table Coordinates from xml\n",
    "    - Scale them w.r.t to new image shape\n",
    "    \n",
    "    Input:\n",
    "        table_xml_path: str - xml path\n",
    "        new_image_shape: tuple - (new_h, new_w)\n",
    "    \n",
    "    Output:\n",
    "        table_bboxes: List \n",
    "    \"\"\"\n",
    "\n",
    "    tree = ET.parse(table_xml_path)\n",
    "    root = tree.getroot()\n",
    "\n",
    "    px0, py1, px1, py0 = list(map(lambda x: struct.unpack('!d', bytes.fromhex(x))[0], root.get(\"CropBox\").split()))\n",
    "    pw = abs(px1 - px0)\n",
    "    ph = abs(py1 - py0)\n",
    "\n",
    "    table_bboxes = []\n",
    "\n",
    "    for table in root.findall(\".//Composite[@Label='TableBody']\"):\n",
    "        x0p, y0m, x1p,y1m  = list(map(lambda x: struct.unpack('!d', bytes.fromhex(x))[0], table.get(\"BBox\").split()))\n",
    "        x0 = round(new_image_shape[1]*(x0p - px0)/pw)\n",
    "        x1 = round(new_image_shape[1]*(x1p - px0)/pw)\n",
    "        y0 = round(new_image_shape[0]*(py1 - y0m)/ph)\n",
    "        y1 = round(new_image_shape[0]*(py1 - y1m)/ph)\n",
    "        \n",
    "        table_bboxes.append([x0,y0, x1,y1])\n",
    "    return table_bboxes"
   ]
  },
  {
   "cell_type": "code",
   "execution_count": null,
   "metadata": {},
   "outputs": [],
   "source": [
    "def get_col_bbox(column_xml_path, prev_img_shape, new_image_shape, table_bboxes):\n",
    "    \n",
    "    \"\"\"\n",
    "    - Extract Column Coordinates from xml\n",
    "    - Scale them w.r.t to new image shape and prev image shape\n",
    "    - If there are no table_bboxes present , approximate them using column bbox\n",
    "    \n",
    "    Input:\n",
    "        table_xml_path: str - xml path\n",
    "        prev_img_shape: tuple - (new_h, new_w)\n",
    "        new_image_shape: tuple - (new_h, new_w)\n",
    "        table_bboxes: List - list of table bbox coordinates\n",
    "    \n",
    "    Output:\n",
    "        table_bboxes: List \n",
    "    \"\"\"\n",
    "    \n",
    "    tree = ET.parse(column_xml_path)\n",
    "    root = tree.getroot()\n",
    "    xmins = [round(int(coord.text) * new_image_shape[1] / prev_img_shape[1]) for coord in root.findall(\"./object/bndbox/xmin\")]\n",
    "    xmaxs = [round(int(coord.text) * new_image_shape[1] / prev_img_shape[1]) for coord in root.findall(\"./object/bndbox/xmax\")]\n",
    "    ymins = [round(int(coord.text) * new_image_shape[0] / prev_img_shape[0]) for coord in root.findall(\"./object/bndbox/ymin\")]\n",
    "    ymaxs = [round(int(coord.text) * new_image_shape[0] / prev_img_shape[0]) for coord in root.findall(\"./object/bndbox/ymax\")]\n",
    "\n",
    "    col_bbox = []\n",
    "    for x_min, y_min, x_max, y_max in zip(xmins,ymins,xmaxs,ymaxs):\n",
    "        bbox = [x_min, y_min, x_max, y_max]\n",
    "        col_bbox.append(bbox)\n",
    "    \n",
    "    #fix 1: if no table coord but have column coord\n",
    "    if len(table_bboxes) == 0:\n",
    "        thresh = 3\n",
    "        x_min = min([x[0] for x in col_bbox]) - thresh \n",
    "        y_min = min([x[1] for x in col_bbox]) - thresh \n",
    "        x_max = max([x[2] for x in col_bbox]) + thresh  \n",
    "        y_max = max([x[3] for x in col_bbox]) + thresh \n",
    "        \n",
    "        table_bboxes = [[x_min, y_min, x_max, y_max]]\n",
    "    \n",
    "    return col_bbox, table_bboxes"
   ]
  },
  {
   "cell_type": "code",
   "execution_count": null,
   "metadata": {},
   "outputs": [],
   "source": []
  },
  {
   "cell_type": "markdown",
   "metadata": {},
   "source": [
    "# Useful blog posts"
   ]
  },
  {
   "cell_type": "markdown",
   "metadata": {},
   "source": [
    "https://medium.com/analytics-vidhya/table-extraction-using-deep-learning-3c91790aa200\n",
    "\n",
    "https://asagar60.medium.com/tablenet-deep-learning-model-for-end-to-end-table-detection-and-tabular-data-extraction-from-b1547799fe29\n"
   ]
  }
 ],
 "metadata": {
  "interpreter": {
   "hash": "d57b0d1329b7452fda068c9bd889a4b70d07fa75eed51c296885a9407d757a3e"
  },
  "kernelspec": {
   "display_name": "Python 3.8.10 ('table_ocr-pmpvhyIZ')",
   "language": "python",
   "name": "python3"
  },
  "language_info": {
   "codemirror_mode": {
    "name": "ipython",
    "version": 3
   },
   "file_extension": ".py",
   "mimetype": "text/x-python",
   "name": "python",
   "nbconvert_exporter": "python",
   "pygments_lexer": "ipython3",
   "version": "3.8.10"
  },
  "orig_nbformat": 4
 },
 "nbformat": 4,
 "nbformat_minor": 2
}
